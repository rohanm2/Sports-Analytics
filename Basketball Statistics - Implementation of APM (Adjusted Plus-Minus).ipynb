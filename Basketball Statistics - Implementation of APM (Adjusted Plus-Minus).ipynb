{
 "cells": [
  {
   "cell_type": "code",
   "execution_count": 5,
   "metadata": {},
   "outputs": [
    {
     "name": "stdout",
     "output_type": "stream",
     "text": [
      "   Player A1 Player A2 Player A3 Player B1 Player B2 Player B3  Team A Points  \\\n",
      "0         A1        A2        A3        B1        B2        B3             11   \n",
      "1         A1        A2        A3        B1        B2        B4              2   \n",
      "2         A1        A4        A5        B1        B4        B5              7   \n",
      "3         A1        A4        A5        B3        B4        B5              6   \n",
      "4         A2        A3        A4        B2        B3        B4              4   \n",
      "5         A2        A3        A5        B2        B3        B5              5   \n",
      "6         A1        A2        A3        B2        B4        B5              4   \n",
      "7         A1        A2        A3        B1        B4        B5              4   \n",
      "8         A3        A4        A5        B1        B4        B5              4   \n",
      "9         A1        A3        A4        B1        B2        B3              5   \n",
      "10        A1        A4        A5        B2        B3        B4              2   \n",
      "\n",
      "    Team B Points  possessions  Cum. A points  Cum. B points  \n",
      "0               5           15             11              5  \n",
      "1               4            8             13              9  \n",
      "2               1           10             20             10  \n",
      "3               6           17             26             16  \n",
      "4               7           10             30             23  \n",
      "5               7           16             35             30  \n",
      "6               5            8             39             35  \n",
      "7               7           10             43             42  \n",
      "8               0            8             47             42  \n",
      "9               2           10             52             44  \n",
      "10              9           14             54             53  \n"
     ]
    }
   ],
   "source": [
    "import pandas as pd  \n",
    "\n",
    "df = pd.read_csv('Sample Game.csv') \n",
    "\n",
    "print (df) \n",
    "\n",
    "players = ['A1', 'A2', 'A3', 'A4', 'A5', 'B1', 'B2', 'B3', 'B4', 'B5'] \n",
    "\n",
    "plus_minus_dict = {player : 0 for player in players} "
   ]
  },
  {
   "cell_type": "code",
   "execution_count": 6,
   "metadata": {},
   "outputs": [
    {
     "name": "stdout",
     "output_type": "stream",
     "text": [
      "{'A1': 2, 'A2': -5, 'A3': 2, 'A4': 3, 'A5': 1, 'B1': -14, 'B2': 6, 'B3': 3, 'B4': 6, 'B5': -4}\n"
     ]
    }
   ],
   "source": [
    "for player in players: \n",
    "    # find rows where they appear \n",
    "    # find the point differential between A and B \n",
    "    # add that to their plus minus -- positive if an A player, negative if a B player \n",
    "    for index in range(len(df)):  \n",
    "        if player in df.loc[index, :].values: \n",
    "            differential = df.loc[index, \"Team A Points\"] - df.loc[index, \"Team B Points\"] \n",
    "            if \"B\" in player: \n",
    "                differential *= -1 \n",
    "            plus_minus_dict[player] += differential \n",
    "    \n",
    "print(plus_minus_dict) "
   ]
  },
  {
   "cell_type": "code",
   "execution_count": 7,
   "metadata": {},
   "outputs": [
    {
     "name": "stdout",
     "output_type": "stream",
     "text": [
      "[-0.32 -0.64 -0.96  0.   -0.96 -1.28 -0.32 -0.96  0.   -0.96]\n"
     ]
    }
   ],
   "source": [
    "import numpy as np \n",
    "\n",
    "df.insert(loc=len(df), column='Differential per 100 poss', value=np.zeros(len(df))) \n",
    "\n",
    "for index in range(len(df)):  \n",
    "    # Insert the normalized differential per 100 possessions \n",
    "    differential = df.loc[index, \"Team A Points\"] - df.loc[index, \"Team B Points\"]  \n",
    "    poss = df.loc[index, \"possessions\"] \n",
    "    diff_per_100 = differential * 100/poss \n",
    "    df.loc[index, \"Differential per 100 poss\"] = diff_per_100 \n",
    "\n",
    "player_matrix = np.zeros((len(df), len(players)))\n",
    "\n",
    "for i in range(len(players)): \n",
    "    player = players[i]\n",
    "    for index in range(len(df)):  \n",
    "        if player in df.loc[index, :].values: \n",
    "            value = 1\n",
    "            if \"B\" in player: \n",
    "                value *= -1 \n",
    "            player_matrix[index, i] = value \n",
    "    \n",
    "beta_vec = np.zeros(len(players)) \n",
    "\n",
    "diffs_vec = np.array(df.loc[:, \"Differential per 100 poss\"]) \n",
    "\n",
    "new_X = player_matrix.T @ player_matrix \n",
    "\n",
    "new_y = player_matrix.T @ diffs_vec\n",
    "\n",
    "adjusted_plus_minus_vec = np.linalg.inv(new_X) @ new_y \n",
    "\n",
    "APM_vec_per_poss = adjusted_plus_minus_vec / 100 \n",
    "\n",
    "print(APM_vec_per_poss) "
   ]
  },
  {
   "cell_type": "code",
   "execution_count": null,
   "metadata": {},
   "outputs": [],
   "source": []
  }
 ],
 "metadata": {
  "kernelspec": {
   "display_name": "Python 3",
   "language": "python",
   "name": "python3"
  },
  "language_info": {
   "codemirror_mode": {
    "name": "ipython",
    "version": 3
   },
   "file_extension": ".py",
   "mimetype": "text/x-python",
   "name": "python",
   "nbconvert_exporter": "python",
   "pygments_lexer": "ipython3",
   "version": "3.7.1"
  }
 },
 "nbformat": 4,
 "nbformat_minor": 2
}
